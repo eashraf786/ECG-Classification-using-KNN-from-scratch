{
  "cells": [
    {
      "cell_type": "code",
      "execution_count": null,
      "metadata": {
        "colab": {
          "base_uri": "https://localhost:8080/"
        },
        "id": "jIckRURKUu-C",
        "outputId": "709ad5f8-f317-4d18-f58a-ab20d18e7e20"
      },
      "outputs": [
        {
          "output_type": "stream",
          "name": "stdout",
          "text": [
            "Mounted at /content/drive\n"
          ]
        }
      ],
      "source": [
        "from google.colab import drive\n",
        "drive.mount('/content/drive')"
      ]
    },
    {
      "cell_type": "code",
      "execution_count": null,
      "metadata": {
        "id": "f8GljDzmSJ00"
      },
      "outputs": [],
      "source": [
        "import pandas as pd\n",
        "import numpy as np\n",
        "import matplotlib.pyplot as plt\n",
        "import librosa\n",
        "from sklearn.model_selection import train_test_split\n",
        "from sklearn.preprocessing import StandardScaler\n",
        "import statistics\n",
        "from sklearn.metrics import confusion_matrix, f1_score, accuracy_score"
      ]
    },
    {
      "cell_type": "code",
      "source": [
        "path = \"/content/drive/MyDrive/CV_project_Grp1/mitbih_train.csv\"\n",
        "df = pd.read_csv(path,names=[f\"Sample {i}\" for i in range(1,188)]+['Class'])\n",
        "df.head()"
      ],
      "metadata": {
        "colab": {
          "base_uri": "https://localhost:8080/",
          "height": 253
        },
        "id": "3qfyiXCjM4uM",
        "outputId": "879e2134-0c97-4b94-8579-f12673376377"
      },
      "execution_count": null,
      "outputs": [
        {
          "output_type": "execute_result",
          "data": {
            "text/plain": [
              "   Sample 1  Sample 2  Sample 3  Sample 4  Sample 5  Sample 6  Sample 7  \\\n",
              "0    0.9779    0.9265    0.6814    0.2451    0.1544    0.1912    0.1520   \n",
              "1    0.9601    0.8632    0.4615    0.1966    0.0940    0.1254    0.0997   \n",
              "2    1.0000    0.6595    0.1865    0.0703    0.0703    0.0595    0.0568   \n",
              "3    0.9254    0.6657    0.5414    0.2762    0.1961    0.0773    0.0718   \n",
              "4    0.9671    1.0000    0.8310    0.5869    0.3568    0.2488    0.1455   \n",
              "\n",
              "   Sample 8  Sample 9  Sample 10  ...  Sample 179  Sample 180  Sample 181  \\\n",
              "0    0.0858    0.0588     0.0490  ...         0.0         0.0         0.0   \n",
              "1    0.0883    0.0741     0.0826  ...         0.0         0.0         0.0   \n",
              "2    0.0432    0.0541     0.0459  ...         0.0         0.0         0.0   \n",
              "3    0.0608    0.0663     0.0580  ...         0.0         0.0         0.0   \n",
              "4    0.0892    0.1174     0.1502  ...         0.0         0.0         0.0   \n",
              "\n",
              "   Sample 182  Sample 183  Sample 184  Sample 185  Sample 186  Sample 187  \\\n",
              "0         0.0         0.0         0.0         0.0         0.0         0.0   \n",
              "1         0.0         0.0         0.0         0.0         0.0         0.0   \n",
              "2         0.0         0.0         0.0         0.0         0.0         0.0   \n",
              "3         0.0         0.0         0.0         0.0         0.0         0.0   \n",
              "4         0.0         0.0         0.0         0.0         0.0         0.0   \n",
              "\n",
              "   Class  \n",
              "0    0.0  \n",
              "1    0.0  \n",
              "2    0.0  \n",
              "3    0.0  \n",
              "4    0.0  \n",
              "\n",
              "[5 rows x 188 columns]"
            ],
            "text/html": [
              "\n",
              "  <div id=\"df-32520445-faea-4486-a3ed-e07a3b2b041f\" class=\"colab-df-container\">\n",
              "    <div>\n",
              "<style scoped>\n",
              "    .dataframe tbody tr th:only-of-type {\n",
              "        vertical-align: middle;\n",
              "    }\n",
              "\n",
              "    .dataframe tbody tr th {\n",
              "        vertical-align: top;\n",
              "    }\n",
              "\n",
              "    .dataframe thead th {\n",
              "        text-align: right;\n",
              "    }\n",
              "</style>\n",
              "<table border=\"1\" class=\"dataframe\">\n",
              "  <thead>\n",
              "    <tr style=\"text-align: right;\">\n",
              "      <th></th>\n",
              "      <th>Sample 1</th>\n",
              "      <th>Sample 2</th>\n",
              "      <th>Sample 3</th>\n",
              "      <th>Sample 4</th>\n",
              "      <th>Sample 5</th>\n",
              "      <th>Sample 6</th>\n",
              "      <th>Sample 7</th>\n",
              "      <th>Sample 8</th>\n",
              "      <th>Sample 9</th>\n",
              "      <th>Sample 10</th>\n",
              "      <th>...</th>\n",
              "      <th>Sample 179</th>\n",
              "      <th>Sample 180</th>\n",
              "      <th>Sample 181</th>\n",
              "      <th>Sample 182</th>\n",
              "      <th>Sample 183</th>\n",
              "      <th>Sample 184</th>\n",
              "      <th>Sample 185</th>\n",
              "      <th>Sample 186</th>\n",
              "      <th>Sample 187</th>\n",
              "      <th>Class</th>\n",
              "    </tr>\n",
              "  </thead>\n",
              "  <tbody>\n",
              "    <tr>\n",
              "      <th>0</th>\n",
              "      <td>0.9779</td>\n",
              "      <td>0.9265</td>\n",
              "      <td>0.6814</td>\n",
              "      <td>0.2451</td>\n",
              "      <td>0.1544</td>\n",
              "      <td>0.1912</td>\n",
              "      <td>0.1520</td>\n",
              "      <td>0.0858</td>\n",
              "      <td>0.0588</td>\n",
              "      <td>0.0490</td>\n",
              "      <td>...</td>\n",
              "      <td>0.0</td>\n",
              "      <td>0.0</td>\n",
              "      <td>0.0</td>\n",
              "      <td>0.0</td>\n",
              "      <td>0.0</td>\n",
              "      <td>0.0</td>\n",
              "      <td>0.0</td>\n",
              "      <td>0.0</td>\n",
              "      <td>0.0</td>\n",
              "      <td>0.0</td>\n",
              "    </tr>\n",
              "    <tr>\n",
              "      <th>1</th>\n",
              "      <td>0.9601</td>\n",
              "      <td>0.8632</td>\n",
              "      <td>0.4615</td>\n",
              "      <td>0.1966</td>\n",
              "      <td>0.0940</td>\n",
              "      <td>0.1254</td>\n",
              "      <td>0.0997</td>\n",
              "      <td>0.0883</td>\n",
              "      <td>0.0741</td>\n",
              "      <td>0.0826</td>\n",
              "      <td>...</td>\n",
              "      <td>0.0</td>\n",
              "      <td>0.0</td>\n",
              "      <td>0.0</td>\n",
              "      <td>0.0</td>\n",
              "      <td>0.0</td>\n",
              "      <td>0.0</td>\n",
              "      <td>0.0</td>\n",
              "      <td>0.0</td>\n",
              "      <td>0.0</td>\n",
              "      <td>0.0</td>\n",
              "    </tr>\n",
              "    <tr>\n",
              "      <th>2</th>\n",
              "      <td>1.0000</td>\n",
              "      <td>0.6595</td>\n",
              "      <td>0.1865</td>\n",
              "      <td>0.0703</td>\n",
              "      <td>0.0703</td>\n",
              "      <td>0.0595</td>\n",
              "      <td>0.0568</td>\n",
              "      <td>0.0432</td>\n",
              "      <td>0.0541</td>\n",
              "      <td>0.0459</td>\n",
              "      <td>...</td>\n",
              "      <td>0.0</td>\n",
              "      <td>0.0</td>\n",
              "      <td>0.0</td>\n",
              "      <td>0.0</td>\n",
              "      <td>0.0</td>\n",
              "      <td>0.0</td>\n",
              "      <td>0.0</td>\n",
              "      <td>0.0</td>\n",
              "      <td>0.0</td>\n",
              "      <td>0.0</td>\n",
              "    </tr>\n",
              "    <tr>\n",
              "      <th>3</th>\n",
              "      <td>0.9254</td>\n",
              "      <td>0.6657</td>\n",
              "      <td>0.5414</td>\n",
              "      <td>0.2762</td>\n",
              "      <td>0.1961</td>\n",
              "      <td>0.0773</td>\n",
              "      <td>0.0718</td>\n",
              "      <td>0.0608</td>\n",
              "      <td>0.0663</td>\n",
              "      <td>0.0580</td>\n",
              "      <td>...</td>\n",
              "      <td>0.0</td>\n",
              "      <td>0.0</td>\n",
              "      <td>0.0</td>\n",
              "      <td>0.0</td>\n",
              "      <td>0.0</td>\n",
              "      <td>0.0</td>\n",
              "      <td>0.0</td>\n",
              "      <td>0.0</td>\n",
              "      <td>0.0</td>\n",
              "      <td>0.0</td>\n",
              "    </tr>\n",
              "    <tr>\n",
              "      <th>4</th>\n",
              "      <td>0.9671</td>\n",
              "      <td>1.0000</td>\n",
              "      <td>0.8310</td>\n",
              "      <td>0.5869</td>\n",
              "      <td>0.3568</td>\n",
              "      <td>0.2488</td>\n",
              "      <td>0.1455</td>\n",
              "      <td>0.0892</td>\n",
              "      <td>0.1174</td>\n",
              "      <td>0.1502</td>\n",
              "      <td>...</td>\n",
              "      <td>0.0</td>\n",
              "      <td>0.0</td>\n",
              "      <td>0.0</td>\n",
              "      <td>0.0</td>\n",
              "      <td>0.0</td>\n",
              "      <td>0.0</td>\n",
              "      <td>0.0</td>\n",
              "      <td>0.0</td>\n",
              "      <td>0.0</td>\n",
              "      <td>0.0</td>\n",
              "    </tr>\n",
              "  </tbody>\n",
              "</table>\n",
              "<p>5 rows × 188 columns</p>\n",
              "</div>\n",
              "    <div class=\"colab-df-buttons\">\n",
              "\n",
              "  <div class=\"colab-df-container\">\n",
              "    <button class=\"colab-df-convert\" onclick=\"convertToInteractive('df-32520445-faea-4486-a3ed-e07a3b2b041f')\"\n",
              "            title=\"Convert this dataframe to an interactive table.\"\n",
              "            style=\"display:none;\">\n",
              "\n",
              "  <svg xmlns=\"http://www.w3.org/2000/svg\" height=\"24px\" viewBox=\"0 -960 960 960\">\n",
              "    <path d=\"M120-120v-720h720v720H120Zm60-500h600v-160H180v160Zm220 220h160v-160H400v160Zm0 220h160v-160H400v160ZM180-400h160v-160H180v160Zm440 0h160v-160H620v160ZM180-180h160v-160H180v160Zm440 0h160v-160H620v160Z\"/>\n",
              "  </svg>\n",
              "    </button>\n",
              "\n",
              "  <style>\n",
              "    .colab-df-container {\n",
              "      display:flex;\n",
              "      gap: 12px;\n",
              "    }\n",
              "\n",
              "    .colab-df-convert {\n",
              "      background-color: #E8F0FE;\n",
              "      border: none;\n",
              "      border-radius: 50%;\n",
              "      cursor: pointer;\n",
              "      display: none;\n",
              "      fill: #1967D2;\n",
              "      height: 32px;\n",
              "      padding: 0 0 0 0;\n",
              "      width: 32px;\n",
              "    }\n",
              "\n",
              "    .colab-df-convert:hover {\n",
              "      background-color: #E2EBFA;\n",
              "      box-shadow: 0px 1px 2px rgba(60, 64, 67, 0.3), 0px 1px 3px 1px rgba(60, 64, 67, 0.15);\n",
              "      fill: #174EA6;\n",
              "    }\n",
              "\n",
              "    .colab-df-buttons div {\n",
              "      margin-bottom: 4px;\n",
              "    }\n",
              "\n",
              "    [theme=dark] .colab-df-convert {\n",
              "      background-color: #3B4455;\n",
              "      fill: #D2E3FC;\n",
              "    }\n",
              "\n",
              "    [theme=dark] .colab-df-convert:hover {\n",
              "      background-color: #434B5C;\n",
              "      box-shadow: 0px 1px 3px 1px rgba(0, 0, 0, 0.15);\n",
              "      filter: drop-shadow(0px 1px 2px rgba(0, 0, 0, 0.3));\n",
              "      fill: #FFFFFF;\n",
              "    }\n",
              "  </style>\n",
              "\n",
              "    <script>\n",
              "      const buttonEl =\n",
              "        document.querySelector('#df-32520445-faea-4486-a3ed-e07a3b2b041f button.colab-df-convert');\n",
              "      buttonEl.style.display =\n",
              "        google.colab.kernel.accessAllowed ? 'block' : 'none';\n",
              "\n",
              "      async function convertToInteractive(key) {\n",
              "        const element = document.querySelector('#df-32520445-faea-4486-a3ed-e07a3b2b041f');\n",
              "        const dataTable =\n",
              "          await google.colab.kernel.invokeFunction('convertToInteractive',\n",
              "                                                    [key], {});\n",
              "        if (!dataTable) return;\n",
              "\n",
              "        const docLinkHtml = 'Like what you see? Visit the ' +\n",
              "          '<a target=\"_blank\" href=https://colab.research.google.com/notebooks/data_table.ipynb>data table notebook</a>'\n",
              "          + ' to learn more about interactive tables.';\n",
              "        element.innerHTML = '';\n",
              "        dataTable['output_type'] = 'display_data';\n",
              "        await google.colab.output.renderOutput(dataTable, element);\n",
              "        const docLink = document.createElement('div');\n",
              "        docLink.innerHTML = docLinkHtml;\n",
              "        element.appendChild(docLink);\n",
              "      }\n",
              "    </script>\n",
              "  </div>\n",
              "\n",
              "\n",
              "<div id=\"df-8481037a-4d88-42ee-82c5-474e92990c70\">\n",
              "  <button class=\"colab-df-quickchart\" onclick=\"quickchart('df-8481037a-4d88-42ee-82c5-474e92990c70')\"\n",
              "            title=\"Suggest charts\"\n",
              "            style=\"display:none;\">\n",
              "\n",
              "<svg xmlns=\"http://www.w3.org/2000/svg\" height=\"24px\"viewBox=\"0 0 24 24\"\n",
              "     width=\"24px\">\n",
              "    <g>\n",
              "        <path d=\"M19 3H5c-1.1 0-2 .9-2 2v14c0 1.1.9 2 2 2h14c1.1 0 2-.9 2-2V5c0-1.1-.9-2-2-2zM9 17H7v-7h2v7zm4 0h-2V7h2v10zm4 0h-2v-4h2v4z\"/>\n",
              "    </g>\n",
              "</svg>\n",
              "  </button>\n",
              "\n",
              "<style>\n",
              "  .colab-df-quickchart {\n",
              "      --bg-color: #E8F0FE;\n",
              "      --fill-color: #1967D2;\n",
              "      --hover-bg-color: #E2EBFA;\n",
              "      --hover-fill-color: #174EA6;\n",
              "      --disabled-fill-color: #AAA;\n",
              "      --disabled-bg-color: #DDD;\n",
              "  }\n",
              "\n",
              "  [theme=dark] .colab-df-quickchart {\n",
              "      --bg-color: #3B4455;\n",
              "      --fill-color: #D2E3FC;\n",
              "      --hover-bg-color: #434B5C;\n",
              "      --hover-fill-color: #FFFFFF;\n",
              "      --disabled-bg-color: #3B4455;\n",
              "      --disabled-fill-color: #666;\n",
              "  }\n",
              "\n",
              "  .colab-df-quickchart {\n",
              "    background-color: var(--bg-color);\n",
              "    border: none;\n",
              "    border-radius: 50%;\n",
              "    cursor: pointer;\n",
              "    display: none;\n",
              "    fill: var(--fill-color);\n",
              "    height: 32px;\n",
              "    padding: 0;\n",
              "    width: 32px;\n",
              "  }\n",
              "\n",
              "  .colab-df-quickchart:hover {\n",
              "    background-color: var(--hover-bg-color);\n",
              "    box-shadow: 0 1px 2px rgba(60, 64, 67, 0.3), 0 1px 3px 1px rgba(60, 64, 67, 0.15);\n",
              "    fill: var(--button-hover-fill-color);\n",
              "  }\n",
              "\n",
              "  .colab-df-quickchart-complete:disabled,\n",
              "  .colab-df-quickchart-complete:disabled:hover {\n",
              "    background-color: var(--disabled-bg-color);\n",
              "    fill: var(--disabled-fill-color);\n",
              "    box-shadow: none;\n",
              "  }\n",
              "\n",
              "  .colab-df-spinner {\n",
              "    border: 2px solid var(--fill-color);\n",
              "    border-color: transparent;\n",
              "    border-bottom-color: var(--fill-color);\n",
              "    animation:\n",
              "      spin 1s steps(1) infinite;\n",
              "  }\n",
              "\n",
              "  @keyframes spin {\n",
              "    0% {\n",
              "      border-color: transparent;\n",
              "      border-bottom-color: var(--fill-color);\n",
              "      border-left-color: var(--fill-color);\n",
              "    }\n",
              "    20% {\n",
              "      border-color: transparent;\n",
              "      border-left-color: var(--fill-color);\n",
              "      border-top-color: var(--fill-color);\n",
              "    }\n",
              "    30% {\n",
              "      border-color: transparent;\n",
              "      border-left-color: var(--fill-color);\n",
              "      border-top-color: var(--fill-color);\n",
              "      border-right-color: var(--fill-color);\n",
              "    }\n",
              "    40% {\n",
              "      border-color: transparent;\n",
              "      border-right-color: var(--fill-color);\n",
              "      border-top-color: var(--fill-color);\n",
              "    }\n",
              "    60% {\n",
              "      border-color: transparent;\n",
              "      border-right-color: var(--fill-color);\n",
              "    }\n",
              "    80% {\n",
              "      border-color: transparent;\n",
              "      border-right-color: var(--fill-color);\n",
              "      border-bottom-color: var(--fill-color);\n",
              "    }\n",
              "    90% {\n",
              "      border-color: transparent;\n",
              "      border-bottom-color: var(--fill-color);\n",
              "    }\n",
              "  }\n",
              "</style>\n",
              "\n",
              "  <script>\n",
              "    async function quickchart(key) {\n",
              "      const quickchartButtonEl =\n",
              "        document.querySelector('#' + key + ' button');\n",
              "      quickchartButtonEl.disabled = true;  // To prevent multiple clicks.\n",
              "      quickchartButtonEl.classList.add('colab-df-spinner');\n",
              "      try {\n",
              "        const charts = await google.colab.kernel.invokeFunction(\n",
              "            'suggestCharts', [key], {});\n",
              "      } catch (error) {\n",
              "        console.error('Error during call to suggestCharts:', error);\n",
              "      }\n",
              "      quickchartButtonEl.classList.remove('colab-df-spinner');\n",
              "      quickchartButtonEl.classList.add('colab-df-quickchart-complete');\n",
              "    }\n",
              "    (() => {\n",
              "      let quickchartButtonEl =\n",
              "        document.querySelector('#df-8481037a-4d88-42ee-82c5-474e92990c70 button');\n",
              "      quickchartButtonEl.style.display =\n",
              "        google.colab.kernel.accessAllowed ? 'block' : 'none';\n",
              "    })();\n",
              "  </script>\n",
              "</div>\n",
              "    </div>\n",
              "  </div>\n"
            ]
          },
          "metadata": {},
          "execution_count": 3
        }
      ]
    },
    {
      "cell_type": "code",
      "source": [
        "df.info()"
      ],
      "metadata": {
        "colab": {
          "base_uri": "https://localhost:8080/"
        },
        "id": "gnrNIYESM0tO",
        "outputId": "e4e2bfc3-847d-41e4-97ac-f487fad15631"
      },
      "execution_count": null,
      "outputs": [
        {
          "output_type": "stream",
          "name": "stdout",
          "text": [
            "<class 'pandas.core.frame.DataFrame'>\n",
            "RangeIndex: 87554 entries, 0 to 87553\n",
            "Columns: 188 entries, Sample 1 to Class\n",
            "dtypes: float64(188)\n",
            "memory usage: 125.6 MB\n"
          ]
        }
      ]
    },
    {
      "cell_type": "code",
      "source": [
        "df['Class'].value_counts()"
      ],
      "metadata": {
        "colab": {
          "base_uri": "https://localhost:8080/"
        },
        "id": "w8LfBGSshagi",
        "outputId": "7b5083f7-faa6-41f3-af29-9de3809f6f3d"
      },
      "execution_count": null,
      "outputs": [
        {
          "output_type": "execute_result",
          "data": {
            "text/plain": [
              "0.0    72471\n",
              "4.0     6431\n",
              "2.0     5788\n",
              "1.0     2223\n",
              "3.0      641\n",
              "Name: Class, dtype: int64"
            ]
          },
          "metadata": {},
          "execution_count": 5
        }
      ]
    },
    {
      "cell_type": "code",
      "execution_count": null,
      "metadata": {
        "id": "pyX0DCcGSJ02"
      },
      "outputs": [],
      "source": [
        "X = df.iloc[:,:-1]\n",
        "y = df.iloc[:,-1]"
      ]
    },
    {
      "cell_type": "code",
      "source": [
        "plt.plot(range(len(X.loc[0])),X.loc[0])\n",
        "plt.title(\"ECG Signal\")\n",
        "plt.xlabel(\"Samples\")\n",
        "plt.ylabel(\"Magnitude\")\n",
        "plt.show()"
      ],
      "metadata": {
        "colab": {
          "base_uri": "https://localhost:8080/",
          "height": 472
        },
        "id": "LzvhN48HpRs5",
        "outputId": "49124ea2-a362-49c8-e241-313eb8c5bdc9"
      },
      "execution_count": null,
      "outputs": [
        {
          "output_type": "display_data",
          "data": {
            "text/plain": [
              "<Figure size 640x480 with 1 Axes>"
            ],
            "image/png": "[encoded data removed]"
          },
          "metadata": {}
        }
      ]
    },
    {
      "cell_type": "code",
      "execution_count": null,
      "metadata": {
        "colab": {
          "base_uri": "https://localhost:8080/"
        },
        "id": "Z4s7ig30SJ03",
        "outputId": "9b4994cf-2a7d-4199-c72b-2acdc25cda6e"
      },
      "outputs": [
        {
          "output_type": "stream",
          "name": "stderr",
          "text": [
            "/usr/local/lib/python3.10/dist-packages/librosa/feature/spectral.py:2143: UserWarning: Empty filters detected in mel frequency basis. Some channels will produce empty responses. Try increasing your sampling rate (and fmax) or reducing n_mels.\n",
            "  mel_basis = filters.mel(sr=sr, n_fft=n_fft, **kwargs)\n"
          ]
        }
      ],
      "source": [
        "samples = np.array(X)\n",
        "mfccf = []\n",
        "for s in samples:\n",
        "    mfcc = librosa.feature.mfcc(y=s, sr=125, n_mfcc=20,n_fft=20)\n",
        "    mfccf.append(mfcc.flatten())"
      ]
    },
    {
      "cell_type": "code",
      "execution_count": null,
      "metadata": {
        "colab": {
          "base_uri": "https://localhost:8080/",
          "height": 226
        },
        "id": "12WUozfpSJ04",
        "outputId": "9c5c5920-94a0-4660-951e-85293458fc4e"
      },
      "outputs": [
        {
          "output_type": "execute_result",
          "data": {
            "text/plain": [
              "           0         1          2         3          4         5          6   \\\n",
              "0 -670.561467  8.264729 -14.045899 -2.841677 -14.462296 -1.080926 -15.576133   \n",
              "1 -682.154684  7.574554 -15.482611 -1.648307 -14.992832 -1.330511 -15.220920   \n",
              "2 -701.522627  5.542821 -16.839338 -0.872506 -15.328645 -1.186981 -15.474251   \n",
              "3 -685.514779  6.221410 -13.513518 -1.412325 -15.269554 -1.440440 -15.525001   \n",
              "4 -655.275860  8.712446 -12.938903 -1.528776 -15.047107 -1.773395 -15.030073   \n",
              "\n",
              "         7          8         9          10        11         12        13  \\\n",
              "0 -1.632110 -15.639729 -1.781383 -16.479225 -1.916327 -17.733794 -2.074525   \n",
              "1 -1.732568 -15.549728 -1.890518 -16.320604 -2.035607 -17.628245 -2.206795   \n",
              "2 -1.328236 -15.943352 -1.417472 -16.762874 -1.522256 -18.091948 -1.673100   \n",
              "3 -1.259582 -16.065619 -1.372487 -16.855259 -1.469407 -18.247485 -1.554934   \n",
              "4 -2.076030 -15.228368 -2.191286 -16.083551 -2.351841 -17.267410 -2.613335   \n",
              "\n",
              "          14        15         16        17         18        19  \n",
              "0 -20.526264 -1.795531 -24.404568 -4.824463 -39.062906  6.144207  \n",
              "1 -20.044643 -2.204263 -24.741220 -3.619583 -40.799186  5.665882  \n",
              "2 -20.415862 -1.888574 -25.240625 -2.374421 -42.960113  4.157331  \n",
              "3 -20.559454 -2.086587 -25.445168 -3.043065 -39.025700  4.648173  \n",
              "4 -19.760928 -2.846538 -24.797156 -3.862282 -37.482216  6.529256  "
            ],
            "text/html": [
              "\n",
              "  <div id=\"df-3c2e93c1-a098-46cc-8676-6eed245392c9\" class=\"colab-df-container\">\n",
              "    <div>\n",
              "<style scoped>\n",
              "    .dataframe tbody tr th:only-of-type {\n",
              "        vertical-align: middle;\n",
              "    }\n",
              "\n",
              "    .dataframe tbody tr th {\n",
              "        vertical-align: top;\n",
              "    }\n",
              "\n",
              "    .dataframe thead th {\n",
              "        text-align: right;\n",
              "    }\n",
              "</style>\n",
              "<table border=\"1\" class=\"dataframe\">\n",
              "  <thead>\n",
              "    <tr style=\"text-align: right;\">\n",
              "      <th></th>\n",
              "      <th>0</th>\n",
              "      <th>1</th>\n",
              "      <th>2</th>\n",
              "      <th>3</th>\n",
              "      <th>4</th>\n",
              "      <th>5</th>\n",
              "      <th>6</th>\n",
              "      <th>7</th>\n",
              "      <th>8</th>\n",
              "      <th>9</th>\n",
              "      <th>10</th>\n",
              "      <th>11</th>\n",
              "      <th>12</th>\n",
              "      <th>13</th>\n",
              "      <th>14</th>\n",
              "      <th>15</th>\n",
              "      <th>16</th>\n",
              "      <th>17</th>\n",
              "      <th>18</th>\n",
              "      <th>19</th>\n",
              "    </tr>\n",
              "  </thead>\n",
              "  <tbody>\n",
              "    <tr>\n",
              "      <th>0</th>\n",
              "      <td>-670.561467</td>\n",
              "      <td>8.264729</td>\n",
              "      <td>-14.045899</td>\n",
              "      <td>-2.841677</td>\n",
              "      <td>-14.462296</td>\n",
              "      <td>-1.080926</td>\n",
              "      <td>-15.576133</td>\n",
              "      <td>-1.632110</td>\n",
              "      <td>-15.639729</td>\n",
              "      <td>-1.781383</td>\n",
              "      <td>-16.479225</td>\n",
              "      <td>-1.916327</td>\n",
              "      <td>-17.733794</td>\n",
              "      <td>-2.074525</td>\n",
              "      <td>-20.526264</td>\n",
              "      <td>-1.795531</td>\n",
              "      <td>-24.404568</td>\n",
              "      <td>-4.824463</td>\n",
              "      <td>-39.062906</td>\n",
              "      <td>6.144207</td>\n",
              "    </tr>\n",
              "    <tr>\n",
              "      <th>1</th>\n",
              "      <td>-682.154684</td>\n",
              "      <td>7.574554</td>\n",
              "      <td>-15.482611</td>\n",
              "      <td>-1.648307</td>\n",
              "      <td>-14.992832</td>\n",
              "      <td>-1.330511</td>\n",
              "      <td>-15.220920</td>\n",
              "      <td>-1.732568</td>\n",
              "      <td>-15.549728</td>\n",
              "      <td>-1.890518</td>\n",
              "      <td>-16.320604</td>\n",
              "      <td>-2.035607</td>\n",
              "      <td>-17.628245</td>\n",
              "      <td>-2.206795</td>\n",
              "      <td>-20.044643</td>\n",
              "      <td>-2.204263</td>\n",
              "      <td>-24.741220</td>\n",
              "      <td>-3.619583</td>\n",
              "      <td>-40.799186</td>\n",
              "      <td>5.665882</td>\n",
              "    </tr>\n",
              "    <tr>\n",
              "      <th>2</th>\n",
              "      <td>-701.522627</td>\n",
              "      <td>5.542821</td>\n",
              "      <td>-16.839338</td>\n",
              "      <td>-0.872506</td>\n",
              "      <td>-15.328645</td>\n",
              "      <td>-1.186981</td>\n",
              "      <td>-15.474251</td>\n",
              "      <td>-1.328236</td>\n",
              "      <td>-15.943352</td>\n",
              "      <td>-1.417472</td>\n",
              "      <td>-16.762874</td>\n",
              "      <td>-1.522256</td>\n",
              "      <td>-18.091948</td>\n",
              "      <td>-1.673100</td>\n",
              "      <td>-20.415862</td>\n",
              "      <td>-1.888574</td>\n",
              "      <td>-25.240625</td>\n",
              "      <td>-2.374421</td>\n",
              "      <td>-42.960113</td>\n",
              "      <td>4.157331</td>\n",
              "    </tr>\n",
              "    <tr>\n",
              "      <th>3</th>\n",
              "      <td>-685.514779</td>\n",
              "      <td>6.221410</td>\n",
              "      <td>-13.513518</td>\n",
              "      <td>-1.412325</td>\n",
              "      <td>-15.269554</td>\n",
              "      <td>-1.440440</td>\n",
              "      <td>-15.525001</td>\n",
              "      <td>-1.259582</td>\n",
              "      <td>-16.065619</td>\n",
              "      <td>-1.372487</td>\n",
              "      <td>-16.855259</td>\n",
              "      <td>-1.469407</td>\n",
              "      <td>-18.247485</td>\n",
              "      <td>-1.554934</td>\n",
              "      <td>-20.559454</td>\n",
              "      <td>-2.086587</td>\n",
              "      <td>-25.445168</td>\n",
              "      <td>-3.043065</td>\n",
              "      <td>-39.025700</td>\n",
              "      <td>4.648173</td>\n",
              "    </tr>\n",
              "    <tr>\n",
              "      <th>4</th>\n",
              "      <td>-655.275860</td>\n",
              "      <td>8.712446</td>\n",
              "      <td>-12.938903</td>\n",
              "      <td>-1.528776</td>\n",
              "      <td>-15.047107</td>\n",
              "      <td>-1.773395</td>\n",
              "      <td>-15.030073</td>\n",
              "      <td>-2.076030</td>\n",
              "      <td>-15.228368</td>\n",
              "      <td>-2.191286</td>\n",
              "      <td>-16.083551</td>\n",
              "      <td>-2.351841</td>\n",
              "      <td>-17.267410</td>\n",
              "      <td>-2.613335</td>\n",
              "      <td>-19.760928</td>\n",
              "      <td>-2.846538</td>\n",
              "      <td>-24.797156</td>\n",
              "      <td>-3.862282</td>\n",
              "      <td>-37.482216</td>\n",
              "      <td>6.529256</td>\n",
              "    </tr>\n",
              "  </tbody>\n",
              "</table>\n",
              "</div>\n",
              "    <div class=\"colab-df-buttons\">\n",
              "\n",
              "  <div class=\"colab-df-container\">\n",
              "    <button class=\"colab-df-convert\" onclick=\"convertToInteractive('df-3c2e93c1-a098-46cc-8676-6eed245392c9')\"\n",
              "            title=\"Convert this dataframe to an interactive table.\"\n",
              "            style=\"display:none;\">\n",
              "\n",
              "  <svg xmlns=\"http://www.w3.org/2000/svg\" height=\"24px\" viewBox=\"0 -960 960 960\">\n",
              "    <path d=\"M120-120v-720h720v720H120Zm60-500h600v-160H180v160Zm220 220h160v-160H400v160Zm0 220h160v-160H400v160ZM180-400h160v-160H180v160Zm440 0h160v-160H620v160ZM180-180h160v-160H180v160Zm440 0h160v-160H620v160Z\"/>\n",
              "  </svg>\n",
              "    </button>\n",
              "\n",
              "  <style>\n",
              "    .colab-df-container {\n",
              "      display:flex;\n",
              "      gap: 12px;\n",
              "    }\n",
              "\n",
              "    .colab-df-convert {\n",
              "      background-color: #E8F0FE;\n",
              "      border: none;\n",
              "      border-radius: 50%;\n",
              "      cursor: pointer;\n",
              "      display: none;\n",
              "      fill: #1967D2;\n",
              "      height: 32px;\n",
              "      padding: 0 0 0 0;\n",
              "      width: 32px;\n",
              "    }\n",
              "\n",
              "    .colab-df-convert:hover {\n",
              "      background-color: #E2EBFA;\n",
              "      box-shadow: 0px 1px 2px rgba(60, 64, 67, 0.3), 0px 1px 3px 1px rgba(60, 64, 67, 0.15);\n",
              "      fill: #174EA6;\n",
              "    }\n",
              "\n",
              "    .colab-df-buttons div {\n",
              "      margin-bottom: 4px;\n",
              "    }\n",
              "\n",
              "    [theme=dark] .colab-df-convert {\n",
              "      background-color: #3B4455;\n",
              "      fill: #D2E3FC;\n",
              "    }\n",
              "\n",
              "    [theme=dark] .colab-df-convert:hover {\n",
              "      background-color: #434B5C;\n",
              "      box-shadow: 0px 1px 3px 1px rgba(0, 0, 0, 0.15);\n",
              "      filter: drop-shadow(0px 1px 2px rgba(0, 0, 0, 0.3));\n",
              "      fill: #FFFFFF;\n",
              "    }\n",
              "  </style>\n",
              "\n",
              "    <script>\n",
              "      const buttonEl =\n",
              "        document.querySelector('#df-3c2e93c1-a098-46cc-8676-6eed245392c9 button.colab-df-convert');\n",
              "      buttonEl.style.display =\n",
              "        google.colab.kernel.accessAllowed ? 'block' : 'none';\n",
              "\n",
              "      async function convertToInteractive(key) {\n",
              "        const element = document.querySelector('#df-3c2e93c1-a098-46cc-8676-6eed245392c9');\n",
              "        const dataTable =\n",
              "          await google.colab.kernel.invokeFunction('convertToInteractive',\n",
              "                                                    [key], {});\n",
              "        if (!dataTable) return;\n",
              "\n",
              "        const docLinkHtml = 'Like what you see? Visit the ' +\n",
              "          '<a target=\"_blank\" href=https://colab.research.google.com/notebooks/data_table.ipynb>data table notebook</a>'\n",
              "          + ' to learn more about interactive tables.';\n",
              "        element.innerHTML = '';\n",
              "        dataTable['output_type'] = 'display_data';\n",
              "        await google.colab.output.renderOutput(dataTable, element);\n",
              "        const docLink = document.createElement('div');\n",
              "        docLink.innerHTML = docLinkHtml;\n",
              "        element.appendChild(docLink);\n",
              "      }\n",
              "    </script>\n",
              "  </div>\n",
              "\n",
              "\n",
              "<div id=\"df-6b47e7b9-e74b-40bf-a445-c44ca89d8f26\">\n",
              "  <button class=\"colab-df-quickchart\" onclick=\"quickchart('df-6b47e7b9-e74b-40bf-a445-c44ca89d8f26')\"\n",
              "            title=\"Suggest charts\"\n",
              "            style=\"display:none;\">\n",
              "\n",
              "<svg xmlns=\"http://www.w3.org/2000/svg\" height=\"24px\"viewBox=\"0 0 24 24\"\n",
              "     width=\"24px\">\n",
              "    <g>\n",
              "        <path d=\"M19 3H5c-1.1 0-2 .9-2 2v14c0 1.1.9 2 2 2h14c1.1 0 2-.9 2-2V5c0-1.1-.9-2-2-2zM9 17H7v-7h2v7zm4 0h-2V7h2v10zm4 0h-2v-4h2v4z\"/>\n",
              "    </g>\n",
              "</svg>\n",
              "  </button>\n",
              "\n",
              "<style>\n",
              "  .colab-df-quickchart {\n",
              "      --bg-color: #E8F0FE;\n",
              "      --fill-color: #1967D2;\n",
              "      --hover-bg-color: #E2EBFA;\n",
              "      --hover-fill-color: #174EA6;\n",
              "      --disabled-fill-color: #AAA;\n",
              "      --disabled-bg-color: #DDD;\n",
              "  }\n",
              "\n",
              "  [theme=dark] .colab-df-quickchart {\n",
              "      --bg-color: #3B4455;\n",
              "      --fill-color: #D2E3FC;\n",
              "      --hover-bg-color: #434B5C;\n",
              "      --hover-fill-color: #FFFFFF;\n",
              "      --disabled-bg-color: #3B4455;\n",
              "      --disabled-fill-color: #666;\n",
              "  }\n",
              "\n",
              "  .colab-df-quickchart {\n",
              "    background-color: var(--bg-color);\n",
              "    border: none;\n",
              "    border-radius: 50%;\n",
              "    cursor: pointer;\n",
              "    display: none;\n",
              "    fill: var(--fill-color);\n",
              "    height: 32px;\n",
              "    padding: 0;\n",
              "    width: 32px;\n",
              "  }\n",
              "\n",
              "  .colab-df-quickchart:hover {\n",
              "    background-color: var(--hover-bg-color);\n",
              "    box-shadow: 0 1px 2px rgba(60, 64, 67, 0.3), 0 1px 3px 1px rgba(60, 64, 67, 0.15);\n",
              "    fill: var(--button-hover-fill-color);\n",
              "  }\n",
              "\n",
              "  .colab-df-quickchart-complete:disabled,\n",
              "  .colab-df-quickchart-complete:disabled:hover {\n",
              "    background-color: var(--disabled-bg-color);\n",
              "    fill: var(--disabled-fill-color);\n",
              "    box-shadow: none;\n",
              "  }\n",
              "\n",
              "  .colab-df-spinner {\n",
              "    border: 2px solid var(--fill-color);\n",
              "    border-color: transparent;\n",
              "    border-bottom-color: var(--fill-color);\n",
              "    animation:\n",
              "      spin 1s steps(1) infinite;\n",
              "  }\n",
              "\n",
              "  @keyframes spin {\n",
              "    0% {\n",
              "      border-color: transparent;\n",
              "      border-bottom-color: var(--fill-color);\n",
              "      border-left-color: var(--fill-color);\n",
              "    }\n",
              "    20% {\n",
              "      border-color: transparent;\n",
              "      border-left-color: var(--fill-color);\n",
              "      border-top-color: var(--fill-color);\n",
              "    }\n",
              "    30% {\n",
              "      border-color: transparent;\n",
              "      border-left-color: var(--fill-color);\n",
              "      border-top-color: var(--fill-color);\n",
              "      border-right-color: var(--fill-color);\n",
              "    }\n",
              "    40% {\n",
              "      border-color: transparent;\n",
              "      border-right-color: var(--fill-color);\n",
              "      border-top-color: var(--fill-color);\n",
              "    }\n",
              "    60% {\n",
              "      border-color: transparent;\n",
              "      border-right-color: var(--fill-color);\n",
              "    }\n",
              "    80% {\n",
              "      border-color: transparent;\n",
              "      border-right-color: var(--fill-color);\n",
              "      border-bottom-color: var(--fill-color);\n",
              "    }\n",
              "    90% {\n",
              "      border-color: transparent;\n",
              "      border-bottom-color: var(--fill-color);\n",
              "    }\n",
              "  }\n",
              "</style>\n",
              "\n",
              "  <script>\n",
              "    async function quickchart(key) {\n",
              "      const quickchartButtonEl =\n",
              "        document.querySelector('#' + key + ' button');\n",
              "      quickchartButtonEl.disabled = true;  // To prevent multiple clicks.\n",
              "      quickchartButtonEl.classList.add('colab-df-spinner');\n",
              "      try {\n",
              "        const charts = await google.colab.kernel.invokeFunction(\n",
              "            'suggestCharts', [key], {});\n",
              "      } catch (error) {\n",
              "        console.error('Error during call to suggestCharts:', error);\n",
              "      }\n",
              "      quickchartButtonEl.classList.remove('colab-df-spinner');\n",
              "      quickchartButtonEl.classList.add('colab-df-quickchart-complete');\n",
              "    }\n",
              "    (() => {\n",
              "      let quickchartButtonEl =\n",
              "        document.querySelector('#df-6b47e7b9-e74b-40bf-a445-c44ca89d8f26 button');\n",
              "      quickchartButtonEl.style.display =\n",
              "        google.colab.kernel.accessAllowed ? 'block' : 'none';\n",
              "    })();\n",
              "  </script>\n",
              "</div>\n",
              "    </div>\n",
              "  </div>\n"
            ]
          },
          "metadata": {},
          "execution_count": 9
        }
      ],
      "source": [
        "mfccs = pd.DataFrame(mfccf)\n",
        "mfccs.head()"
      ]
    },
    {
      "cell_type": "code",
      "execution_count": null,
      "metadata": {
        "id": "4Pne36i7SJ04"
      },
      "outputs": [],
      "source": [
        "trainX, testX, trainY, testY = train_test_split(mfccs,y, random_state=0, test_size=0.2,stratify=y)"
      ]
    },
    {
      "cell_type": "code",
      "execution_count": null,
      "metadata": {
        "id": "d-_75LGuSJ04"
      },
      "outputs": [],
      "source": [
        "stsc = StandardScaler()\n",
        "trainX = stsc.fit_transform(trainX)\n",
        "testX = stsc.transform(testX)"
      ]
    },
    {
      "cell_type": "code",
      "execution_count": null,
      "metadata": {
        "colab": {
          "base_uri": "https://localhost:8080/"
        },
        "id": "Fesrp44rSJ05",
        "outputId": "76589fec-9162-4d14-f672-b39d42e6be53"
      },
      "outputs": [
        {
          "output_type": "execute_result",
          "data": {
            "text/plain": [
              "(70043, 20)"
            ]
          },
          "metadata": {},
          "execution_count": 12
        }
      ],
      "source": [
        "trainX.shape"
      ]
    },
    {
      "cell_type": "code",
      "execution_count": null,
      "metadata": {
        "id": "0sPh4hNhSJ05"
      },
      "outputs": [],
      "source": [
        "trainX = np.array(trainX)\n",
        "testX = np.array(testX)\n",
        "trainY = np.array(trainY)\n",
        "testY = np.array(testY)"
      ]
    },
    {
      "cell_type": "code",
      "execution_count": null,
      "metadata": {
        "colab": {
          "base_uri": "https://localhost:8080/"
        },
        "id": "ligkH-r3SJ05",
        "outputId": "9f94622a-c2ee-4011-f412-3dcab153d0c4"
      },
      "outputs": [
        {
          "output_type": "execute_result",
          "data": {
            "text/plain": [
              "(17511, 20)"
            ]
          },
          "metadata": {},
          "execution_count": 14
        }
      ],
      "source": [
        "testX.shape"
      ]
    },
    {
      "cell_type": "markdown",
      "source": [
        "##Earlier versions of our KNN classifier"
      ],
      "metadata": {
        "id": "j5pSFlOeWUTx"
      }
    },
    {
      "cell_type": "markdown",
      "source": [
        "\n",
        "def KNNClassifer(k,trainX,trainY,testX):\n",
        "\n",
        "    ypred = []\n",
        "    dst = {}\n",
        "    for tx in testX:\n",
        "        for i,tr in enumerate(trainX):\n",
        "          dist = (((tr-tx)**2).sum())**0.5\n",
        "          dst[dist] = trainY[i]\n",
        "      topk = dict(list(sorted(dct.items()))[:k])\n",
        "      mode = statistics.mode(topk.values())\n",
        "      ypred.append(mode)\n",
        "    return ypred"
      ],
      "metadata": {
        "id": "khRGsVAhVYic"
      }
    },
    {
      "cell_type": "markdown",
      "source": [
        "\n",
        "def KNNClassifer(k,trainX,trainY,testX):\n",
        "\n",
        "    ypred = []\n",
        "    for tx in testX:\n",
        "        dd = np.linalg.norm(trainX-tx,axis=1)\n",
        "        dct = dict(zip(dd,trainY))\n",
        "        topk = dict(list(sorted(dct.items()))[:k])\n",
        "        mode = statistics.mode(topk.values())\n",
        "        ypred.append(mode)\n",
        "    return ypred"
      ],
      "metadata": {
        "id": "UdqbvLEHWs65"
      }
    },
    {
      "cell_type": "code",
      "source": [
        "def KNNClassifer(k, trainX, trainY, testX):\n",
        "    ypred = []\n",
        "    for tx in testX:\n",
        "        dist = np.linalg.norm(trainX - tx, axis=1)\n",
        "        indices = np.argpartition(dist, k)[:k]\n",
        "        topk_classes = trainY[indices]\n",
        "        mode = statistics.mode(topk_classes)\n",
        "        ypred.append(mode)\n",
        "    return ypred\n",
        "ypred = KNNClassifer(5,trainX,trainY,testX)"
      ],
      "metadata": {
        "id": "B0TtfziQWJ-Q"
      },
      "execution_count": null,
      "outputs": []
    },
    {
      "cell_type": "code",
      "execution_count": null,
      "metadata": {
        "colab": {
          "base_uri": "https://localhost:8080/"
        },
        "id": "LZMBgTFrSJ06",
        "outputId": "01af5087-029e-4933-8ddf-f950e2a08513"
      },
      "outputs": [
        {
          "output_type": "stream",
          "name": "stdout",
          "text": [
            "Confusion Matrix :\n",
            "[[14297    56   107    10    24]\n",
            " [  221   213     6     1     4]\n",
            " [  218     3   916     5    16]\n",
            " [   49     0    11    67     1]\n",
            " [   48     0     9     6  1223]]\n"
          ]
        }
      ],
      "source": [
        "cm = confusion_matrix(testY, ypred)\n",
        "acc = accuracy_score(testY, ypred)*100\n",
        "f1 = f1_score(testY, ypred, average='weighted')*100\n",
        "print(\"Confusion Matrix :\")\n",
        "print(cm)"
      ]
    },
    {
      "cell_type": "code",
      "execution_count": null,
      "metadata": {
        "colab": {
          "base_uri": "https://localhost:8080/"
        },
        "id": "fd_ylNqgSJ06",
        "outputId": "4973aff0-cc41-47cd-a1b7-79a9aa83727b"
      },
      "outputs": [
        {
          "output_type": "stream",
          "name": "stdout",
          "text": [
            "Accuracy = 95.46%\n"
          ]
        }
      ],
      "source": [
        "print(f\"Accuracy = {acc:.2f}%\")"
      ]
    },
    {
      "cell_type": "code",
      "execution_count": null,
      "metadata": {
        "colab": {
          "base_uri": "https://localhost:8080/"
        },
        "id": "AIbNbP8-SJ06",
        "outputId": "ee8dbc34-fdcd-4ef1-e23d-e894a1316f7c"
      },
      "outputs": [
        {
          "output_type": "stream",
          "name": "stdout",
          "text": [
            "F1-Score = 95.19%\n"
          ]
        }
      ],
      "source": [
        "print(f\"F1-Score = {f1:.2f}%\")"
      ]
    },
    {
      "cell_type": "code",
      "source": [
        "accs,f1s = [],[]\n",
        "kv = [3,5,7,9,11,13]\n",
        "for k in kv:\n",
        "  print(\"K =\",k)\n",
        "  yprd = KNNClassifer(k,trainX,trainY,testX)\n",
        "  acc = accuracy_score(testY, yprd)*100\n",
        "  accs.append(acc)\n",
        "  f1 = f1_score(testY, yprd, average='weighted')*100\n",
        "  f1s.append(f1)\n",
        "  print(f\"Accuracy = {acc:.2f}%\")\n",
        "  print(f\"F1-Score = {f1:.2f}%\")\n",
        "plt.plot(kv,accs,label=\"Accuracy\")\n",
        "plt.plot(kv,f1s,label=\"F1-Score\")\n",
        "plt.legend()\n",
        "plt.xlabel(\"K (n_neighbors)\")\n",
        "plt.ylabel(\"Accuracy (%)\")\n",
        "plt.title(\"Variation of Accuracy at different values of K\")\n",
        "plt.xticks(kv)\n",
        "plt.grid()\n",
        "plt.show()"
      ],
      "metadata": {
        "colab": {
          "base_uri": "https://localhost:8080/",
          "height": 784
        },
        "id": "i9bqAx5X4t2F",
        "outputId": "4af97f47-6a72-4487-8477-7faec313656b"
      },
      "execution_count": null,
      "outputs": [
        {
          "output_type": "stream",
          "name": "stdout",
          "text": [
            "K = 3\n",
            "Accuracy = 95.26%\n",
            "F1-Score = 95.00%\n",
            "K = 5\n",
            "Accuracy = 95.46%\n",
            "F1-Score = 95.19%\n",
            "K = 7\n",
            "Accuracy = 95.49%\n",
            "F1-Score = 95.19%\n",
            "K = 9\n",
            "Accuracy = 95.36%\n",
            "F1-Score = 95.03%\n",
            "K = 11\n",
            "Accuracy = 95.28%\n",
            "F1-Score = 94.93%\n",
            "K = 13\n",
            "Accuracy = 95.19%\n",
            "F1-Score = 94.83%\n"
          ]
        },
        {
          "output_type": "display_data",
          "data": {
            "text/plain": [
              "<Figure size 640x480 with 1 Axes>"
            ],
            "image/png": "[encoded data removed]"
          },
          "metadata": {}
        }
      ]
    },
    {
      "cell_type": "code",
      "source": [
        "ypred2=KNNClassifer(7,trainX,trainY,testX)\n",
        "acc2 = accuracy_score(testY, ypred2)*100\n",
        "f12 = f1_score(testY, ypred2, average='weighted')*100\n",
        "cm2 = confusion_matrix(testY, ypred2)\n",
        "print(\"Confusion Matrix :\")\n",
        "print(cm2)\n",
        "print(f\"Accuracy = {acc2:.2f}%\")\n",
        "print(f\"F1-Score = {f12:.2f}%\\n\")"
      ],
      "metadata": {
        "colab": {
          "base_uri": "https://localhost:8080/"
        },
        "id": "RcQPK1AWr007",
        "outputId": "52a2a8a0-d2bc-4db2-8d2d-93dd49176463"
      },
      "execution_count": null,
      "outputs": [
        {
          "output_type": "stream",
          "name": "stdout",
          "text": [
            "Confusion Matrix :\n",
            "[[14318    50    92     9    25]\n",
            " [  221   211     7     1     5]\n",
            " [  225     2   910     5    16]\n",
            " [   50     0    16    61     1]\n",
            " [   52     0     7     5  1222]]\n",
            "Accuracy = 95.49%\n",
            "F1-Score = 95.19%\n",
            "\n"
          ]
        }
      ]
    }
  ],
  "metadata": {
    "colab": {
      "provenance": []
    },
    "kernelspec": {
      "display_name": "Python 3",
      "language": "python",
      "name": "python3"
    },
    "language_info": {
      "codemirror_mode": {
        "name": "ipython",
        "version": 3
      },
      "file_extension": ".py",
      "mimetype": "text/x-python",
      "name": "python",
      "nbconvert_exporter": "python",
      "pygments_lexer": "ipython3",
      "version": "3.11.4"
    }
  },
  "nbformat": 4,
  "nbformat_minor": 0
}